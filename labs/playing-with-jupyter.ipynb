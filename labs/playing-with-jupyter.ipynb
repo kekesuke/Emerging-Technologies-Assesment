{
 "cells": [
  {
   "cell_type": "code",
   "execution_count": 3,
   "id": "db8fba1e-83cd-4f20-b261-06bcf6b95874",
   "metadata": {
    "tags": []
   },
   "outputs": [],
   "source": [
    "i = 1\n",
    "j = 2\n",
    "k = i+j"
   ]
  },
  {
   "cell_type": "code",
   "execution_count": 4,
   "id": "987b2104-48ad-4f32-bcbc-2bb0bfcbe4ee",
   "metadata": {
    "tags": []
   },
   "outputs": [
    {
     "data": {
      "text/plain": [
       "3"
      ]
     },
     "execution_count": 4,
     "metadata": {},
     "output_type": "execute_result"
    }
   ],
   "source": [
    "k"
   ]
  },
  {
   "cell_type": "markdown",
   "id": "2a48d03e-430e-41c0-b9fc-c132071d52a8",
   "metadata": {},
   "source": [
    " # This is heading\n",
    " **Bold text**\n",
    " - List 1 \n",
    " - List 2\n",
    " - List 3\n",
    " ![](https://www.enjpg.com/img/2020/cool-pictures-for-57.jpg)"
   ]
  }
 ],
 "metadata": {
  "kernelspec": {
   "display_name": "Python 3",
   "language": "python",
   "name": "python3"
  },
  "language_info": {
   "codemirror_mode": {
    "name": "ipython",
    "version": 3
   },
   "file_extension": ".py",
   "mimetype": "text/x-python",
   "name": "python",
   "nbconvert_exporter": "python",
   "pygments_lexer": "ipython3",
   "version": "3.8.8"
  }
 },
 "nbformat": 4,
 "nbformat_minor": 5
}
