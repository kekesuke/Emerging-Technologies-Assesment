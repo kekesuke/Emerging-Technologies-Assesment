{
 "cells": [
  {
   "cell_type": "markdown",
   "id": "321b42fa-fb80-4613-a244-184f4e4c3c74",
   "metadata": {},
   "source": [
    "### What is Scikit ?\n",
    "\n",
    "What is it used for ?\n",
    "***\n",
    "\n",
    "\n"
   ]
  },
  {
   "cell_type": "code",
   "execution_count": null,
   "id": "fee39b7e-6061-4aee-884d-1de0daf5a676",
   "metadata": {},
   "outputs": [],
   "source": []
  }
 ],
 "metadata": {
  "kernelspec": {
   "display_name": "Python 3",
   "language": "python",
   "name": "python3"
  },
  "language_info": {
   "codemirror_mode": {
    "name": "ipython",
    "version": 3
   },
   "file_extension": ".py",
   "mimetype": "text/x-python",
   "name": "python",
   "nbconvert_exporter": "python",
   "pygments_lexer": "ipython3",
   "version": "3.8.8"
  }
 },
 "nbformat": 4,
 "nbformat_minor": 5
}
