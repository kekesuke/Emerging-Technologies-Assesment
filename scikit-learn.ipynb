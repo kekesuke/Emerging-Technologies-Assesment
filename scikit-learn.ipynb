{
 "cells": [
  {
   "cell_type": "markdown",
   "id": "f7ef9ce7-6cae-4b57-b035-3e36b13e6c6f",
   "metadata": {},
   "source": [
    "## Simple Linear Regression with NumPy"
   ]
  },
  {
   "cell_type": "markdown",
   "id": "d30728ef-9d92-4047-8d88-8b7a89f20931",
   "metadata": {},
   "source": [
    "In school, students are taught to draw lines like the following.\n",
    "\n",
    "$y=2x+1$\n",
    "<br>\n",
    "\n",
    "They're taught to pick two values for x and calculate the corresponding values for y using the equation. Then they draw a set of axes, plot the points, and then draw a line extending through the two dots on their axes."
   ]
  },
  {
   "cell_type": "code",
   "execution_count": 1,
   "id": "cd16b3bf-c903-43be-bdc2-4a5dd1132d15",
   "metadata": {},
   "outputs": [],
   "source": [
    "# Import matplotlib.\n",
    "import matplotlib.pyplot as plt"
   ]
  },
  {
   "cell_type": "code",
   "execution_count": 2,
   "id": "c9ed796a-ed8a-4522-b38f-845df5108d7c",
   "metadata": {},
   "outputs": [
    {
     "data": {
      "image/png": "[encoded data removed]",
      "text/plain": [
       "<Figure size 432x288 with 1 Axes>"
      ]
     },
     "metadata": {
      "needs_background": "light"
     },
     "output_type": "display_data"
    }
   ],
   "source": [
    "# Draw some axes.\n",
    "plt.plot([-1, 10], [0, 0], 'k-')\n",
    "plt.plot([0, 0], [-1, 10], 'k-')\n",
    "\n",
    "# Plot the red, blue and green lines.\n",
    "plt.plot([1, 1], [-1, 3], 'b:')\n",
    "plt.plot([-1, 1], [3, 3], 'r:')\n",
    "\n",
    "# Plot the two points (1,3) and (2,5).\n",
    "plt.plot([1, 2], [3, 5], 'ko')\n",
    "# Join them with an (extending) green lines.\n",
    "plt.plot([-1, 10], [-1, 21], 'g-')\n",
    "\n",
    "# Set some reasonable plot limits.\n",
    "plt.xlim([-1, 10])\n",
    "plt.ylim([-1, 10])\n",
    "\n",
    "# Show the plot.\n",
    "plt.show()"
   ]
  },
  {
   "cell_type": "markdown",
   "id": "0e133326-191f-4817-b9c5-c5654147f047",
   "metadata": {},
   "source": [
    "Simple linear regression is about the opposite problem - what if you have some points and are looking for the equation? It's easy when the points are perfectly on a line already, but usually real-world data has some noise. The data might still look roughly linear, but aren't exactly so.\n",
    "\n",
    "***"
   ]
  },
  {
   "cell_type": "markdown",
   "id": "faca3092-3a35-405d-8abe-1fe5063a3140",
   "metadata": {
    "tags": []
   },
   "source": [
    "## Example (contrived and simulated)"
   ]
  },
  {
   "cell_type": "markdown",
   "id": "30cc376d-5d10-45f7-a97a-0b18a3294b9b",
   "metadata": {},
   "source": [
    "### Scenario\n",
    "Suppose you are trying to weigh your suitcase to avoid an airline's extra charges. You don't have a weighing scales, but you do have a spring and some gym-style weights of masses 7KG, 14KG and 21KG. You attach the spring to the wall hook, and mark where the bottom of it hangs. You then hang the 7KG weight on the end and mark where the bottom of the spring is. You repeat this with the 14KG weight and the 21KG weight. Finally, you place your case hanging on the spring, and the spring hangs down halfway between the 7KG mark and the 14KG mark. Is your case over the 10KG limit set by the airline?\n",
    "\n",
    "### Hypothesis\n",
    "When you look at the marks on the wall, it seems that the 0KG, 7KG, 14KG and 21KG marks are evenly spaced. You wonder if that means your case weighs 10.5KG. That is, you wonder if there is a linear relationship between the distance the spring's hook is from its resting position, and the mass on the end of it.\n",
    "\n",
    "### Experiment\n",
    "You decide to experiment. You buy some new weights - a 1KG, a 2KG, a 3Kg, all the way up to 20KG. You place them each in turn on the spring and measure the distance the spring moves from the resting position. You tabulate the data and plot them.\n",
    "\n",
    "### Analysis\n",
    "Here we'll import the Python libraries we need for or investigations below."
   ]
  },
  {
   "cell_type": "code",
   "execution_count": 3,
   "id": "e65d11e4-5886-4ed2-bbe6-a2e7e3cd9d59",
   "metadata": {},
   "outputs": [],
   "source": [
    "# numpy efficiently deals with numerical multi-dimensional arrays.\n",
    "import numpy as np\n",
    "\n",
    "# matplotlib is a plotting library, and pyplot is its easy-to-use module.\n",
    "import matplotlib.pyplot as plt\n",
    "\n",
    "# This just sets the default plot size to be bigger.\n",
    "plt.rcParams['figure.figsize'] = (8, 6)"
   ]
  },
  {
   "cell_type": "markdown",
   "id": "0e7df2b8-7260-4305-a8ac-93ae86724185",
   "metadata": {},
   "source": [
    "Ignore the next couple of lines where I fake up some data. I'll use the fact that I faked the data to explain some results later. Just pretend that w is an array containing the weight values and d are the corresponding distance measurements."
   ]
  },
  {
   "cell_type": "code",
   "execution_count": 4,
   "id": "4c7b4c26-2360-4f10-b6b6-8d2f72792bd2",
   "metadata": {},
   "outputs": [],
   "source": [
    "w = np.arange(0.0, 21.0, 1.0)\n",
    "d = 5.0 * w + 10.0 + np.random.normal(0.0, 5.0, w.size)"
   ]
  },
  {
   "cell_type": "code",
   "execution_count": 5,
   "id": "b7730a88-b2c3-44aa-9aec-529cb078e356",
   "metadata": {},
   "outputs": [
    {
     "data": {
      "text/plain": [
       "array([ 0.,  1.,  2.,  3.,  4.,  5.,  6.,  7.,  8.,  9., 10., 11., 12.,\n",
       "       13., 14., 15., 16., 17., 18., 19., 20.])"
      ]
     },
     "execution_count": 5,
     "metadata": {},
     "output_type": "execute_result"
    }
   ],
   "source": [
    "# Let's have a look at w.\n",
    "w"
   ]
  },
  {
   "cell_type": "code",
   "execution_count": 6,
   "id": "33f97172-674a-45a8-81b0-76eb887c1ad4",
   "metadata": {},
   "outputs": [
    {
     "data": {
      "text/plain": [
       "array([ 13.45411342,  25.02466606,  13.41787973,  20.95135336,\n",
       "        28.90200516,  35.93210468,  46.79270635,  39.9405804 ,\n",
       "        51.68809446,  56.03775459,  56.99224255,  71.72558436,\n",
       "        68.45597118,  72.088484  ,  86.90685852,  78.57141413,\n",
       "        90.59150396,  92.21351383, 102.66963137, 107.8920414 ,\n",
       "       109.78411484])"
      ]
     },
     "execution_count": 6,
     "metadata": {},
     "output_type": "execute_result"
    }
   ],
   "source": [
    "# Let's have a look at d.\n",
    "d"
   ]
  },
  {
   "cell_type": "code",
   "execution_count": 7,
   "id": "9ca39573-1b38-4621-b329-2203733260ee",
   "metadata": {},
   "outputs": [
    {
     "data": {
      "image/png": "[encoded data removed]",
      "text/plain": [
       "<Figure size 576x432 with 1 Axes>"
      ]
     },
     "metadata": {
      "needs_background": "light"
     },
     "output_type": "display_data"
    }
   ],
   "source": [
    "# Create the plot.\n",
    "\n",
    "plt.plot(w, d, 'k.')\n",
    "\n",
    "# Set some properties for the plot.\n",
    "plt.xlabel('Weight (KG)')\n",
    "plt.ylabel('Distance (CM)')\n",
    "\n",
    "# Show the plot.\n",
    "plt.show()"
   ]
  },
  {
   "cell_type": "markdown",
   "id": "83b66bc8-92da-40b0-9c2c-451113c3a74b",
   "metadata": {},
   "source": [
    "#### Model\n",
    "It looks like the data might indeed be linear. The points don't exactly fit on a straight line, but they are not far off it. We might put that down to some other factors, such as the air density, or errors, such as in our tape measure. Then we can go ahead and see what would be the best line to fit the data."
   ]
  },
  {
   "cell_type": "markdown",
   "id": "9df1b82f-17f4-488a-92e1-ef8211a3e3d5",
   "metadata": {
    "tags": []
   },
   "source": [
    "#### Straight lines\n",
    "All straight lines can be expressed in the form y=mx+c. The number m is the slope of the line. The slope is how much y increases by when x is increased by 1.0. The number c is the y-intercept of the line. It's the value of y when x is 0."
   ]
  },
  {
   "cell_type": "markdown",
   "id": "4d245f28-ad8e-492d-971c-8fd81a897270",
   "metadata": {},
   "source": [
    "#### Fitting the model\n",
    "To fit a straight line to the data, we just must pick values for m and c. These are called the parameters of the model, and we want to pick the best values possible for the parameters. That is, the best parameter values given the data observed. Below we show various lines plotted over the data, with different values for m and c."
   ]
  },
  {
   "cell_type": "code",
   "execution_count": 8,
   "id": "972a425b-1353-4fe4-95d2-337583e98f6f",
   "metadata": {},
   "outputs": [
    {
     "data": {
      "image/png": "[encoded data removed]",
      "text/plain": [
       "<Figure size 576x432 with 1 Axes>"
      ]
     },
     "metadata": {
      "needs_background": "light"
     },
     "output_type": "display_data"
    }
   ],
   "source": [
    "# Plot w versus d with black dots.\n",
    "plt.plot(w, d, 'k.', label=\"Data\")\n",
    "\n",
    "# Overlay some lines on the plot.\n",
    "x = np.arange(0.0, 21.0, 1.0)\n",
    "plt.plot(x, 5.0 * x + 10.0, 'r-', label=r\"$5x + 10$\")\n",
    "plt.plot(x, 6.0 * x +  5.0, 'g-', label=r\"$6x +  5$\")\n",
    "plt.plot(x, 5.0 * x + 15.0, 'b-', label=r\"$5x + 15$\")\n",
    "\n",
    "# Add a legend.\n",
    "plt.legend()\n",
    "\n",
    "# Add axis labels.\n",
    "plt.xlabel('Weight (KG)')\n",
    "plt.ylabel('Distance (CM)')\n",
    "\n",
    "# Show the plot.\n",
    "plt.show()"
   ]
  },
  {
   "cell_type": "markdown",
   "id": "9995e382-2506-4ba6-adb7-ac6a273ec132",
   "metadata": {
    "tags": []
   },
   "source": [
    "#### Calculating the cost\n",
    "You can see that each of these lines roughly fits the data. Which one is best, and is there another line that is better than all three? Is there a \"best\" line?\n",
    "\n",
    "It depends how you define the word best. Luckily, everyone seems to have settled on what the best means. The best line is the one that minimises the following calculated value.\n",
    "\n",
    "$$\\sum_i (y_i - mx_i - c)^2 $$\n",
    "\n",
    "Here $(x_i, y_i)$ is the $i^{th}$ point in the data set and $\\sum_i$ means to sum over all points. The values of $m$ and $c$ are to be determined. \n",
    "We usually denote the above as $Cost(m, c)$.\n",
    "\n",
    "Where does the above calculation come from? It's easy to explain the part in the brackets $(y_i - mx_i - c)$. The corresponding value to xi in the dataset is yi. These are the measured values. The value $m x_i + c$ is what the model says $y_i$ should have been. The difference between the value that was observed ($y_i$) and the value that the model gives ($m x_i + c$), is $y_i - mx_i - c$..\n",
    "\n",
    "Why square that value? Well note that the value could be positive or negative, and you sum over all of these values. If we allow the values to be positive or negative, then the positive could cancel the negatives. So, the natural thing to do is to take the absolute value  $\\mid y_i - m x_i - c \\mid$.. Well it turns out that absolute values are a pain to deal with, and instead it was decided to just square the quantity instead, as the square of a number is always positive. There are pros and cons to using the square instead of the absolute value, but the square is used. This is usually called least squares fitting."
   ]
  },
  {
   "cell_type": "code",
   "execution_count": 9,
   "id": "37d28757-d29c-42df-b6f1-14b8df3a2df7",
   "metadata": {},
   "outputs": [
    {
     "name": "stdout",
     "output_type": "stream",
     "text": [
      "Cost with m =  5.00 and c = 10.00:   427.70\n",
      "Cost with m =  6.00 and c =  5.00:  1699.55\n",
      "Cost with m =  5.00 and c = 15.00:   852.38\n"
     ]
    }
   ],
   "source": [
    "# Calculate the cost of the lines above for the data above.\n",
    "cost = lambda m,c: np.sum([(d[i] - m * w[i] - c)**2 for i in range(w.size)])\n",
    "\n",
    "print(\"Cost with m = %5.2f and c = %5.2f: %8.2f\" % (5.0, 10.0, cost(5.0, 10.0)))\n",
    "print(\"Cost with m = %5.2f and c = %5.2f: %8.2f\" % (6.0,  5.0, cost(6.0,  5.0)))\n",
    "print(\"Cost with m = %5.2f and c = %5.2f: %8.2f\" % (5.0, 15.0, cost(5.0, 15.0)))"
   ]
  },
  {
   "cell_type": "markdown",
   "id": "0a1183b2-82c6-4c59-ad94-b9d9b95e9035",
   "metadata": {},
   "source": [
    "#### Minimising the cost\n",
    "We want to calculate values of $m$ and $c$ that give the lowest value for the cost value above. \n",
    "For our given data set we can plot the cost value/function. \n",
    "Recall that the cost is:\n",
    "\n",
    "$$ Cost(m, c) = \\sum_i (y_i − mx_i − c)^2 $$\n",
    "\n",
    "This is a function of two variables, $m$ and $c$, so a plot of it is three dimensional. See the **Advanced** section below for the plot.\n",
    "\n",
    "In the case of fitting a two-dimensional line to a few data points, we can easily calculate exactly the best values of $m$ and $c$. \n",
    "Some of the details are discussed in the **Advanced section**, as they involve calculus, but the resulting code is straight-forward. \n",
    "We first calculate the mean (average) values of our $x$ values and that of our $y$ values. Then we subtract the mean of $x$ from each of the $x$ values, and the mean of $y$ from each of the $y$ values. \n",
    "Then we take the *dot product* of the new x values and the new $y$ values and divide it by the dot product of the new $x$ values with themselves. That gives us m, and we use m to calculate c.\n",
    "\n",
    "Remember that in our dataset x is called $w$ (for weight) and $y$ is called $d$ (for distance). We calculate $m$ and $c$ below."
   ]
  },
  {
   "cell_type": "markdown",
   "id": "e296c70d-43e8-487c-9cf5-1c751d79a1dc",
   "metadata": {},
   "source": [
    "***Calculus is used to find the value of m and c the two values that give the minimum cost value of the cost based on the data***"
   ]
  },
  {
   "cell_type": "code",
   "execution_count": 10,
   "id": "c265b498-b99d-4b5e-a670-e1819eb1cf00",
   "metadata": {},
   "outputs": [
    {
     "name": "stdout",
     "output_type": "stream",
     "text": [
      "m is 4.949887 and c is 10.978874.\n"
     ]
    }
   ],
   "source": [
    "# Calculate the best values for m and c.\n",
    "\n",
    "# First calculate the means (a.k.a. averages) of w and d.\n",
    "w_avg = np.mean(w)\n",
    "d_avg = np.mean(d)\n",
    "\n",
    "# Subtract means from w and d.\n",
    "w_zero = w - w_avg\n",
    "d_zero = d - d_avg\n",
    "\n",
    "# The best m is found by the following calculation.\n",
    "m = np.sum(w_zero * d_zero) / np.sum(w_zero * w_zero)\n",
    "# Use m from above to calculate the best c.\n",
    "c = d_avg - m * w_avg\n",
    "\n",
    "print(\"m is %8.6f and c is %6.6f.\" % (m, c))"
   ]
  },
  {
   "cell_type": "markdown",
   "id": "78864c61-254c-4dde-8c04-56adef514f57",
   "metadata": {},
   "source": [
    "Note that numpy has a function that will perform this calculation for us, called polyfit. It can be used to fit lines in many dimensions."
   ]
  },
  {
   "cell_type": "code",
   "execution_count": 11,
   "id": "169522b7-a685-4b69-901f-8f8cd613ee41",
   "metadata": {},
   "outputs": [
    {
     "data": {
      "text/plain": [
       "array([ 4.94988698, 10.97887397])"
      ]
     },
     "execution_count": 11,
     "metadata": {},
     "output_type": "execute_result"
    }
   ],
   "source": [
    "np.polyfit(w, d, 1)"
   ]
  },
  {
   "cell_type": "markdown",
   "id": "da746e95-abca-4d98-8e2a-3886cd8e7205",
   "metadata": {},
   "source": [
    "#### Best fit line\n",
    "So, the best values for m and c given our data and using least squares fitting are about 4.95 for m and about 11.13 for c. We plot this line on top of the data below."
   ]
  },
  {
   "cell_type": "code",
   "execution_count": 12,
   "id": "ea574443-6270-481e-acbe-0dab46e9974d",
   "metadata": {},
   "outputs": [
    {
     "data": {
      "image/png": "[encoded data removed]",
      "text/plain": [
       "<Figure size 576x432 with 1 Axes>"
      ]
     },
     "metadata": {
      "needs_background": "light"
     },
     "output_type": "display_data"
    }
   ],
   "source": [
    "# Plot the best fit line.\n",
    "plt.plot(w, d, 'k.', label='Original data')\n",
    "plt.plot(w, m * w + c, 'b-', label='Best fit line')\n",
    "\n",
    "# Add axis labels and a legend.\n",
    "plt.xlabel('Weight (KG)')\n",
    "plt.ylabel('Distance (CM)')\n",
    "plt.legend()\n",
    "\n",
    "# Show the plot.\n",
    "plt.show()"
   ]
  },
  {
   "cell_type": "markdown",
   "id": "fb51aa6b-e129-4a8a-867d-598c973a8d28",
   "metadata": {},
   "source": [
    "Note that the $Cost$ of the best $m$ and best c is not zero in this case."
   ]
  },
  {
   "cell_type": "code",
   "execution_count": 15,
   "id": "2c8224c4-dfe5-4324-bdb6-b0c08cabe8df",
   "metadata": {},
   "outputs": [
    {
     "name": "stdout",
     "output_type": "stream",
     "text": [
      "Cost with m =  4.95 and c = 10.98:   420.98\n"
     ]
    }
   ],
   "source": [
    "print(\"Cost with m = %5.2f and c = %5.2f: %8.2f\" % (m, c, cost(m, c)))"
   ]
  },
  {
   "cell_type": "markdown",
   "id": "5e4e00b6-deb4-4360-927b-8863d370ca1f",
   "metadata": {},
   "source": [
    "#### Summary\n",
    "In this notebook we:\n",
    "\n",
    "1. Investigated the data.\n",
    "2. Picked a model.\n",
    "3. Picked a cost function.\n",
    "4. Estimated the model parameter values that minimised our cost function.\n",
    "\n",
    "***"
   ]
  }
 ],
 "metadata": {
  "kernelspec": {
   "display_name": "Python 3",
   "language": "python",
   "name": "python3"
  },
  "language_info": {
   "codemirror_mode": {
    "name": "ipython",
    "version": 3
   },
   "file_extension": ".py",
   "mimetype": "text/x-python",
   "name": "python",
   "nbconvert_exporter": "python",
   "pygments_lexer": "ipython3",
   "version": "3.8.8"
  }
 },
 "nbformat": 4,
 "nbformat_minor": 5
}
